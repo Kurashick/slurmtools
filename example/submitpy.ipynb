{
 "cells": [
  {
   "cell_type": "code",
   "execution_count": 2,
   "metadata": {},
   "outputs": [],
   "source": [
    "import os\n",
    "from slurmtools.slurmsh import SlurmSh\n",
    "\n",
    "os.chdir('/home/b/b38622/develop/slurmtools/example')\n",
    "currentdir = os.getcwd()"
   ]
  },
  {
   "cell_type": "code",
   "execution_count": 3,
   "metadata": {},
   "outputs": [
    {
     "name": "stdout",
     "output_type": "stream",
     "text": [
      "Submitted batch job 8294538\n"
     ]
    }
   ],
   "source": [
    "obj=SlurmSh(dir=currentdir,filename='submitpy')\n",
    "obj.set_batch(p=\"gr10569b\",t=\"24:00:00\",rsc='p=1:t=1:c=1:m=4G',o='output/%x.%j.out',e='output/%x.%j.err')\n",
    "obj.set_command('srun python3.11 -u /home/b/b38622/develop/slurmtools/example/testase.py')\n",
    "\n",
    "obj.submit_sh()"
   ]
  }
 ],
 "metadata": {
  "kernelspec": {
   "display_name": "Python 3",
   "language": "python",
   "name": "python3"
  },
  "language_info": {
   "codemirror_mode": {
    "name": "ipython",
    "version": 3
   },
   "file_extension": ".py",
   "mimetype": "text/x-python",
   "name": "python",
   "nbconvert_exporter": "python",
   "pygments_lexer": "ipython3",
   "version": "3.11.9"
  }
 },
 "nbformat": 4,
 "nbformat_minor": 2
}
